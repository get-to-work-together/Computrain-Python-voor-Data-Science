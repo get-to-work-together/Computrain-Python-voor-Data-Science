{
 "cells": [
  {
   "cell_type": "markdown",
   "id": "1816f434-4517-42f4-bc6a-0b042b435ac2",
   "metadata": {},
   "source": [
    "# Opdracht 1 - Describe function for numpy array"
   ]
  },
  {
   "cell_type": "code",
   "execution_count": 36,
   "id": "83efa573-b1d6-4bce-8b19-c91d48e0a19b",
   "metadata": {},
   "outputs": [],
   "source": [
    "import numpy as np\n",
    "import scipy\n",
    "import matplotlib.pyplot as plt"
   ]
  },
  {
   "cell_type": "markdown",
   "id": "03abb5f5-05dd-43af-8428-fafc41129d35",
   "metadata": {},
   "source": [
    "### random data"
   ]
  },
  {
   "cell_type": "code",
   "execution_count": 33,
   "id": "e7b0e971-27cc-4d9c-abbd-ee81bbaf18ad",
   "metadata": {},
   "outputs": [],
   "source": [
    "data = np.random.randint(1, 100, 100)\n",
    "data[50] = 200"
   ]
  },
  {
   "cell_type": "markdown",
   "id": "62a2dc0d-b081-4c2c-8ed3-1bb89f8c7f76",
   "metadata": {},
   "source": [
    "### function describe"
   ]
  },
  {
   "cell_type": "code",
   "execution_count": 38,
   "id": "c14049ac-7f6d-4a94-9211-c185bcefda4f",
   "metadata": {},
   "outputs": [],
   "source": [
    "def describe(a):\n",
    "    d = {}\n",
    "\n",
    "    d['aantal'] = len(a)\n",
    "    d['minimum'] = a.min()\n",
    "    d['maximum'] = a.max()\n",
    "    d['mean'] = a.mean()\n",
    "    d['std'] = a.std()\n",
    "    d['median'] = np.median(a)\n",
    "    \n",
    "    q1 = np.quantile(a, 0.25)\n",
    "    q3 = np.quantile(a, 0.75)\n",
    "    iqr = q3 - q1\n",
    "    lower = q1 - 1.5 * iqr\n",
    "    upper = q3 + 1.5 * iqr\n",
    "    \n",
    "    d['q1'] = q1\n",
    "    d['q3'] = q3\n",
    "    d['iqr'] = iqr\n",
    "    d['outliers_lower'] = lower\n",
    "    d['outliers_upper'] = upper\n",
    "    \n",
    "    d['no_outliers'] = sum((a < lower) | (a > upper))\n",
    "    d['outliers'] = a[(a < lower) | (a > upper)]\n",
    "\n",
    "    d['mode'] = scipy.stats.mode(a, keepdims=False).mode\n",
    "    d['skewness'] = scipy.stats.skew(a)\n",
    "    d['kurtosis'] = scipy.stats.kurtosis(a)\n",
    "\n",
    "    return d"
   ]
  },
  {
   "cell_type": "code",
   "execution_count": 39,
   "id": "06239b37-4d44-48ce-be98-bb5712618230",
   "metadata": {},
   "outputs": [
    {
     "data": {
      "text/plain": [
       "{'aantal': 100,\n",
       " 'minimum': 6,\n",
       " 'maximum': 200,\n",
       " 'mean': 53.46,\n",
       " 'std': 31.325203909950847,\n",
       " 'median': 52.0,\n",
       " 'q1': 25.75,\n",
       " 'q3': 77.0,\n",
       " 'iqr': 51.25,\n",
       " 'outliers_lower': -51.125,\n",
       " 'outliers_upper': 153.875,\n",
       " 'no_outliers': 1,\n",
       " 'outliers': array([200]),\n",
       " 'mode': 8,\n",
       " 'skewness': 0.8773658864561902,\n",
       " 'kurtosis': 2.858882326381363}"
      ]
     },
     "execution_count": 39,
     "metadata": {},
     "output_type": "execute_result"
    }
   ],
   "source": [
    "describe(data)"
   ]
  },
  {
   "cell_type": "code",
   "execution_count": 37,
   "id": "1b55aae3-47f3-4ab4-9a38-4154c4f57254",
   "metadata": {},
   "outputs": [
    {
     "data": {
      "image/png": "[encoded data removed]",
      "text/plain": [
       "<Figure size 640x480 with 1 Axes>"
      ]
     },
     "metadata": {},
     "output_type": "display_data"
    }
   ],
   "source": [
    "plt.boxplot(data)\n",
    "plt.show()"
   ]
  },
  {
   "cell_type": "markdown",
   "id": "3e2bf4e7-9ce1-4c98-8267-dd2369ae8e78",
   "metadata": {},
   "source": [
    "# download en install python 3.12\n",
    "\n",
    "pip install jupyter\n",
    "pip install requests\n",
    "pip install numpy\n",
    "pip install pandas\n",
    "pip install matplotlib\n",
    "pip install seaborn\n",
    "pip install scipy\n",
    "pip install scikit-learn\n",
    "\n",
    "jupyter lab"
   ]
  }
 ],
 "metadata": {
  "kernelspec": {
   "display_name": "Python 3 (ipykernel)",
   "language": "python",
   "name": "python3"
  },
  "language_info": {
   "codemirror_mode": {
    "name": "ipython",
    "version": 3
   },
   "file_extension": ".py",
   "mimetype": "text/x-python",
   "name": "python",
   "nbconvert_exporter": "python",
   "pygments_lexer": "ipython3",
   "version": "3.9.16"
  }
 },
 "nbformat": 4,
 "nbformat_minor": 5
}
