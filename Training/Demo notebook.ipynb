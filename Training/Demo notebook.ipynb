{
 "cells": [
  {
   "cell_type": "markdown",
   "id": "5700f2d7-2cdb-4f2f-9617-dbecc34916c4",
   "metadata": {},
   "source": [
    "## Demo Jupyter Notebook\n",
    "\n",
    "Dit is een voorbeeld van een Jupyter notebook\n",
    "\n",
    "* Eerste\n",
    "* Tweede\n",
    "* Derde\n",
    "\n",
    "https://www.anaconda.com/download"
   ]
  },
  {
   "cell_type": "code",
   "execution_count": 1,
   "id": "d2f57dbd-c67d-44fa-b8d5-934f351d697e",
   "metadata": {},
   "outputs": [
    {
     "name": "stdout",
     "output_type": "stream",
     "text": [
      "Hello world!!\n"
     ]
    }
   ],
   "source": [
    "print('Hello world!!')"
   ]
  },
  {
   "cell_type": "code",
   "execution_count": 2,
   "id": "6ace24a3-92a8-44ef-9de4-62fb40677c10",
   "metadata": {},
   "outputs": [
    {
     "data": {
      "text/plain": [
       "17704"
      ]
     },
     "execution_count": 2,
     "metadata": {},
     "output_type": "execute_result"
    }
   ],
   "source": [
    "8217 + 9487"
   ]
  },
  {
   "cell_type": "code",
   "execution_count": 3,
   "id": "dca7a6cd-c0bc-4eb2-baaf-2eaf63c249aa",
   "metadata": {},
   "outputs": [
    {
     "name": "stdout",
     "output_type": "stream",
     "text": [
      "HELLO\n"
     ]
    }
   ],
   "source": [
    "print('Hello'.upper())"
   ]
  },
  {
   "cell_type": "code",
   "execution_count": 4,
   "id": "4c4c88d6-0914-4c68-9329-3527c85f3542",
   "metadata": {},
   "outputs": [
    {
     "name": "stdout",
     "output_type": "stream",
     "text": [
      "1\n",
      "2\n",
      "3\n",
      "4\n",
      "5\n",
      "6\n",
      "7\n",
      "8\n",
      "9\n",
      "10\n"
     ]
    }
   ],
   "source": [
    "for getal in range(1, 11):\n",
    "    print(getal)"
   ]
  },
  {
   "cell_type": "markdown",
   "id": "f1aac71d-9514-4e15-83ec-81913e6ba410",
   "metadata": {},
   "source": [
    "## Functions"
   ]
  },
  {
   "cell_type": "code",
   "execution_count": 7,
   "id": "f80d682b-d1ae-4bda-b13f-dd25d5b575ee",
   "metadata": {},
   "outputs": [],
   "source": [
    "def telop(getal1, getal2):\n",
    "    som = getal1 + getal2\n",
    "    return som"
   ]
  },
  {
   "cell_type": "code",
   "execution_count": 8,
   "id": "bacdee8b-6050-4b84-994c-c185a381755c",
   "metadata": {},
   "outputs": [
    {
     "name": "stdout",
     "output_type": "stream",
     "text": [
      "721\n"
     ]
    },
    {
     "data": {
      "text/plain": [
       "678"
      ]
     },
     "execution_count": 8,
     "metadata": {},
     "output_type": "execute_result"
    }
   ],
   "source": [
    "a = 43\n",
    "b = 678\n",
    "\n",
    "print(telop(a, b))\n",
    "\n",
    "b"
   ]
  },
  {
   "cell_type": "code",
   "execution_count": 10,
   "id": "75224459-841f-4b34-9bbe-d46aa8d642af",
   "metadata": {},
   "outputs": [
    {
     "data": {
      "text/plain": [
       "\u001b[0;31mSignature:\u001b[0m \u001b[0msum\u001b[0m\u001b[0;34m(\u001b[0m\u001b[0miterable\u001b[0m\u001b[0;34m,\u001b[0m \u001b[0;34m/\u001b[0m\u001b[0;34m,\u001b[0m \u001b[0mstart\u001b[0m\u001b[0;34m=\u001b[0m\u001b[0;36m0\u001b[0m\u001b[0;34m)\u001b[0m\u001b[0;34m\u001b[0m\u001b[0;34m\u001b[0m\u001b[0m\n",
       "\u001b[0;31mDocstring:\u001b[0m\n",
       "Return the sum of a 'start' value (default: 0) plus an iterable of numbers\n",
       "\n",
       "When the iterable is empty, return the start value.\n",
       "This function is intended specifically for use with numeric values and may\n",
       "reject non-numeric types.\n",
       "\u001b[0;31mType:\u001b[0m      builtin_function_or_method"
      ]
     },
     "metadata": {},
     "output_type": "display_data"
    }
   ],
   "source": [
    "?sum"
   ]
  },
  {
   "cell_type": "code",
   "execution_count": 11,
   "id": "055d75fc-16a5-485c-865a-a4f45e757277",
   "metadata": {},
   "outputs": [],
   "source": [
    "getallen = [2,6,9,3,5,3]"
   ]
  },
  {
   "cell_type": "code",
   "execution_count": 12,
   "id": "ca50f493-dc6f-49ea-b4be-060a6f575ec6",
   "metadata": {},
   "outputs": [
    {
     "data": {
      "text/plain": [
       "list"
      ]
     },
     "execution_count": 12,
     "metadata": {},
     "output_type": "execute_result"
    }
   ],
   "source": [
    "type(getallen)"
   ]
  },
  {
   "cell_type": "code",
   "execution_count": 13,
   "id": "75a87611-9173-4315-b869-9bc7ae932721",
   "metadata": {},
   "outputs": [
    {
     "data": {
      "text/plain": [
       "6"
      ]
     },
     "execution_count": 13,
     "metadata": {},
     "output_type": "execute_result"
    }
   ],
   "source": [
    "len(getallen)"
   ]
  },
  {
   "cell_type": "code",
   "execution_count": 14,
   "id": "0c5b0ecd-4ae2-4042-a700-0d8b4396b8bd",
   "metadata": {},
   "outputs": [
    {
     "data": {
      "text/plain": [
       "28"
      ]
     },
     "execution_count": 14,
     "metadata": {},
     "output_type": "execute_result"
    }
   ],
   "source": [
    "sum(getallen)"
   ]
  },
  {
   "cell_type": "code",
   "execution_count": 15,
   "id": "13ce8f7a-736d-4878-bbee-c13884dd829b",
   "metadata": {},
   "outputs": [
    {
     "data": {
      "text/plain": [
       "[2, 6, 9, 3, 5, 3, 99]"
      ]
     },
     "execution_count": 15,
     "metadata": {},
     "output_type": "execute_result"
    }
   ],
   "source": [
    "getallen.append(99)\n",
    "getallen"
   ]
  },
  {
   "cell_type": "code",
   "execution_count": 16,
   "id": "1c8d3e58-ecc8-44de-891a-b0b016c75501",
   "metadata": {},
   "outputs": [
    {
     "data": {
      "text/plain": [
       "[2, 6, 9, 99, 3, 5, 3, 99]"
      ]
     },
     "execution_count": 16,
     "metadata": {},
     "output_type": "execute_result"
    }
   ],
   "source": [
    "getallen.insert(3, 99)\n",
    "getallen"
   ]
  },
  {
   "cell_type": "code",
   "execution_count": 17,
   "id": "003bbd97-ebd3-4272-be69-cbf2513e1025",
   "metadata": {},
   "outputs": [
    {
     "data": {
      "text/plain": [
       "5"
      ]
     },
     "execution_count": 17,
     "metadata": {},
     "output_type": "execute_result"
    }
   ],
   "source": [
    "getallen[5]"
   ]
  },
  {
   "cell_type": "code",
   "execution_count": 18,
   "id": "06669c2e-04c3-45bb-9806-ebdd90e10ace",
   "metadata": {},
   "outputs": [
    {
     "data": {
      "text/plain": [
       "[99, 3, 5]"
      ]
     },
     "execution_count": 18,
     "metadata": {},
     "output_type": "execute_result"
    }
   ],
   "source": [
    "getallen[3:6]"
   ]
  },
  {
   "cell_type": "code",
   "execution_count": 28,
   "id": "aa97723e-5f6b-4861-b3e7-30ab60c2cad8",
   "metadata": {},
   "outputs": [
    {
     "data": {
      "text/plain": [
       "\u001b[0;31mSignature:\u001b[0m \u001b[0msorted\u001b[0m\u001b[0;34m(\u001b[0m\u001b[0miterable\u001b[0m\u001b[0;34m,\u001b[0m \u001b[0;34m/\u001b[0m\u001b[0;34m,\u001b[0m \u001b[0;34m*\u001b[0m\u001b[0;34m,\u001b[0m \u001b[0mkey\u001b[0m\u001b[0;34m=\u001b[0m\u001b[0;32mNone\u001b[0m\u001b[0;34m,\u001b[0m \u001b[0mreverse\u001b[0m\u001b[0;34m=\u001b[0m\u001b[0;32mFalse\u001b[0m\u001b[0;34m)\u001b[0m\u001b[0;34m\u001b[0m\u001b[0;34m\u001b[0m\u001b[0m\n",
       "\u001b[0;31mDocstring:\u001b[0m\n",
       "Return a new list containing all items from the iterable in ascending order.\n",
       "\n",
       "A custom key function can be supplied to customize the sort order, and the\n",
       "reverse flag can be set to request the result in descending order.\n",
       "\u001b[0;31mType:\u001b[0m      builtin_function_or_method"
      ]
     },
     "metadata": {},
     "output_type": "display_data"
    }
   ],
   "source": [
    "?sorted"
   ]
  },
  {
   "cell_type": "code",
   "execution_count": 29,
   "id": "0a2dc57a-5b4c-45ed-bef1-eb528e868f98",
   "metadata": {},
   "outputs": [
    {
     "name": "stdout",
     "output_type": "stream",
     "text": [
      "Het getal is 99!\n",
      "Het getal is 99!\n",
      "Het getal is 9!\n",
      "Het getal is 6!\n",
      "Het getal is 5!\n",
      "Het getal is 3!\n",
      "Het getal is 3!\n",
      "Het getal is 2!\n"
     ]
    }
   ],
   "source": [
    "for getal in sorted(getallen, reverse=True):\n",
    "    print(f'Het getal is {getal}!')"
   ]
  },
  {
   "cell_type": "code",
   "execution_count": 25,
   "id": "34db55b0-b704-4d91-a0a5-acacd0c6cae5",
   "metadata": {},
   "outputs": [
    {
     "data": {
      "text/plain": [
       "[2, 6, 9, 99, 3, 5, 3, 99]"
      ]
     },
     "execution_count": 25,
     "metadata": {},
     "output_type": "execute_result"
    }
   ],
   "source": [
    "getallen"
   ]
  },
  {
   "cell_type": "code",
   "execution_count": 26,
   "id": "2e1276dc-1616-40d4-a379-edcce59ba1c2",
   "metadata": {},
   "outputs": [],
   "source": [
    "getallen.sort()"
   ]
  },
  {
   "cell_type": "code",
   "execution_count": 27,
   "id": "a6e2e7c0-b309-483d-a09b-28ca7ecd0fe4",
   "metadata": {},
   "outputs": [
    {
     "data": {
      "text/plain": [
       "[2, 3, 3, 5, 6, 9, 99, 99]"
      ]
     },
     "execution_count": 27,
     "metadata": {},
     "output_type": "execute_result"
    }
   ],
   "source": [
    "getallen"
   ]
  },
  {
   "cell_type": "code",
   "execution_count": 30,
   "id": "df5eb6d2-73ea-4eb6-a655-b000f299569c",
   "metadata": {},
   "outputs": [],
   "source": [
    "woorden = 'de kat krabt de krullen van de trap'.split()"
   ]
  },
  {
   "cell_type": "code",
   "execution_count": 31,
   "id": "6f145558-33ff-4cfe-a7e4-0b1ddd1b865c",
   "metadata": {},
   "outputs": [
    {
     "data": {
      "text/plain": [
       "['de', 'kat', 'krabt', 'de', 'krullen', 'van', 'de', 'trap']"
      ]
     },
     "execution_count": 31,
     "metadata": {},
     "output_type": "execute_result"
    }
   ],
   "source": [
    "woorden"
   ]
  },
  {
   "cell_type": "code",
   "execution_count": 32,
   "id": "9d4df838-cfbb-4754-be09-5f83399cc03a",
   "metadata": {},
   "outputs": [
    {
     "data": {
      "text/plain": [
       "'de-kat-krabt-de-krullen-van-de-trap'"
      ]
     },
     "execution_count": 32,
     "metadata": {},
     "output_type": "execute_result"
    }
   ],
   "source": [
    "'-'.join(woorden)"
   ]
  },
  {
   "cell_type": "code",
   "execution_count": 36,
   "id": "2276f996-e336-46c7-9832-799d8de8d6b7",
   "metadata": {},
   "outputs": [
    {
     "data": {
      "text/plain": [
       "['de', 'de', 'de', 'kat', 'van', 'trap', 'krabt', 'krullen']"
      ]
     },
     "execution_count": 36,
     "metadata": {},
     "output_type": "execute_result"
    }
   ],
   "source": [
    "sorted(woorden, key=len)"
   ]
  },
  {
   "cell_type": "code",
   "execution_count": 37,
   "id": "b60357ba-3d6d-416e-9838-8e818c5dd52e",
   "metadata": {},
   "outputs": [],
   "source": [
    "woorden.append('abracadabra')"
   ]
  },
  {
   "cell_type": "code",
   "execution_count": 38,
   "id": "ab204ccd-149f-4f08-b29e-bb5554d37b8b",
   "metadata": {},
   "outputs": [
    {
     "data": {
      "text/plain": [
       "['de', 'kat', 'krabt', 'de', 'krullen', 'van', 'de', 'trap', 'abracadabra']"
      ]
     },
     "execution_count": 38,
     "metadata": {},
     "output_type": "execute_result"
    }
   ],
   "source": [
    "woorden"
   ]
  },
  {
   "cell_type": "code",
   "execution_count": 40,
   "id": "2e372f42-bfcc-4fdc-b3d8-e4dae19a96d2",
   "metadata": {},
   "outputs": [
    {
     "data": {
      "text/plain": [
       "5"
      ]
     },
     "execution_count": 40,
     "metadata": {},
     "output_type": "execute_result"
    }
   ],
   "source": [
    "'abracadabra'.count('a')"
   ]
  },
  {
   "cell_type": "code",
   "execution_count": 46,
   "id": "caa728ea-461d-4bcc-9d3e-f046e07dde34",
   "metadata": {},
   "outputs": [],
   "source": [
    "def count_a(word):\n",
    "    return word.count('a')"
   ]
  },
  {
   "cell_type": "code",
   "execution_count": 49,
   "id": "3082c911-c230-4ed8-a1d3-9296085d447c",
   "metadata": {},
   "outputs": [
    {
     "data": {
      "text/plain": [
       "<function __main__.<lambda>(word)>"
      ]
     },
     "execution_count": 49,
     "metadata": {},
     "output_type": "execute_result"
    }
   ],
   "source": [
    "lambda word: word.count('a')"
   ]
  },
  {
   "cell_type": "code",
   "execution_count": 58,
   "id": "fe764b98-7e0f-4a27-91bf-fd8b48117381",
   "metadata": {},
   "outputs": [],
   "source": [
    "def count_vowels(word):\n",
    "    return (word.count('a') + \n",
    "            word.count('e') + \n",
    "            word.count('i') + \n",
    "            word.count('o') + \n",
    "            word.count('u'))"
   ]
  },
  {
   "cell_type": "code",
   "execution_count": 59,
   "id": "4f7ada97-b2d5-4de8-a73e-9681bb55cc23",
   "metadata": {},
   "outputs": [
    {
     "data": {
      "text/plain": [
       "5"
      ]
     },
     "execution_count": 59,
     "metadata": {},
     "output_type": "execute_result"
    }
   ],
   "source": [
    "count_vowels('abacadabra')"
   ]
  },
  {
   "cell_type": "code",
   "execution_count": 60,
   "id": "484b4025-c840-4661-836f-39a3fc5ae822",
   "metadata": {},
   "outputs": [
    {
     "data": {
      "text/plain": [
       "['de', 'kat', 'krabt', 'de', 'van', 'de', 'trap', 'krullen', 'abracadabra']"
      ]
     },
     "execution_count": 60,
     "metadata": {},
     "output_type": "execute_result"
    }
   ],
   "source": [
    "sorted(woorden, key=count_vowels)"
   ]
  },
  {
   "cell_type": "code",
   "execution_count": 55,
   "id": "a480e1f0-9a0b-4f3d-a7b6-3b1b15789a8a",
   "metadata": {},
   "outputs": [
    {
     "data": {
      "text/plain": [
       "['kat', 'krabt', 'van', 'trap', 'abracadabra', 'de', 'de', 'de', 'krullen']"
      ]
     },
     "execution_count": 55,
     "metadata": {},
     "output_type": "execute_result"
    }
   ],
   "source": [
    "sorted(woorden, key=lambda w: w.count('l') + w.count('e'))"
   ]
  },
  {
   "cell_type": "code",
   "execution_count": 61,
   "id": "fd1a527b-0a6d-4f22-8f4b-63a225b6b081",
   "metadata": {},
   "outputs": [
    {
     "data": {
      "text/plain": [
       "[1, 1, 1, 1, 2, 1, 1, 1, 5]"
      ]
     },
     "execution_count": 61,
     "metadata": {},
     "output_type": "execute_result"
    }
   ],
   "source": [
    "list(map(count_vowels, woorden))"
   ]
  },
  {
   "cell_type": "code",
   "execution_count": 62,
   "id": "71aec20c-b2f4-483f-9c7a-6be658b44dc4",
   "metadata": {},
   "outputs": [
    {
     "data": {
      "text/plain": [
       "[2, 3, 3, 5, 6, 9, 99, 99]"
      ]
     },
     "execution_count": 62,
     "metadata": {},
     "output_type": "execute_result"
    }
   ],
   "source": [
    "getallen"
   ]
  },
  {
   "cell_type": "code",
   "execution_count": 63,
   "id": "10284bc6-6dcd-482b-8736-154479e81405",
   "metadata": {},
   "outputs": [
    {
     "data": {
      "text/plain": [
       "49"
      ]
     },
     "execution_count": 63,
     "metadata": {},
     "output_type": "execute_result"
    }
   ],
   "source": [
    "7 ** 2"
   ]
  },
  {
   "cell_type": "code",
   "execution_count": 66,
   "id": "9c7c9b24-9542-4395-8a06-feb91b412c6d",
   "metadata": {},
   "outputs": [
    {
     "data": {
      "text/plain": [
       "[4, 9, 9, 25, 36, 81, 9801, 9801]"
      ]
     },
     "execution_count": 66,
     "metadata": {},
     "output_type": "execute_result"
    }
   ],
   "source": [
    "kwadraten = []\n",
    "for getal in getallen:\n",
    "    kwadraat = getal ** 2\n",
    "    kwadraten.append(kwadraat)\n",
    "kwadraten"
   ]
  },
  {
   "cell_type": "code",
   "execution_count": 68,
   "id": "0159c2d6-e9d3-4f6d-bf36-746fd0a5aa69",
   "metadata": {},
   "outputs": [
    {
     "data": {
      "text/plain": [
       "[4, 9, 9, 25, 36, 81, 9801, 9801]"
      ]
     },
     "execution_count": 68,
     "metadata": {},
     "output_type": "execute_result"
    }
   ],
   "source": [
    "kwadraten = [getal ** 2 for getal in getallen]    # listcomprehension\n",
    "kwadraten"
   ]
  },
  {
   "cell_type": "code",
   "execution_count": 72,
   "id": "a964bd31-53b0-4701-8b98-0a744ba637fe",
   "metadata": {},
   "outputs": [
    {
     "data": {
      "text/plain": [
       "5"
      ]
     },
     "execution_count": 72,
     "metadata": {},
     "output_type": "execute_result"
    }
   ],
   "source": [
    "word = 'fietsfabriek'\n",
    "sum([word.count(vowel) for vowel in 'aeiou'])"
   ]
  },
  {
   "cell_type": "code",
   "execution_count": 73,
   "id": "639a6576-fd3a-449a-8584-8ede548d8a84",
   "metadata": {},
   "outputs": [
    {
     "data": {
      "text/plain": [
       "['de', 'kat', 'krabt', 'de', 'krullen', 'van', 'de', 'trap', 'abracadabra']"
      ]
     },
     "execution_count": 73,
     "metadata": {},
     "output_type": "execute_result"
    }
   ],
   "source": [
    "woorden"
   ]
  },
  {
   "cell_type": "code",
   "execution_count": 75,
   "id": "8ed3990e-d666-4f55-82ae-f1ba04ed9bfb",
   "metadata": {},
   "outputs": [
    {
     "data": {
      "text/plain": [
       "['de', 'kat', 'krabt', 'de', 'van', 'de', 'trap', 'krullen', 'abracadabra']"
      ]
     },
     "execution_count": 75,
     "metadata": {},
     "output_type": "execute_result"
    }
   ],
   "source": [
    "sorted(woorden, key = lambda word: sum([word.count(vowel) for vowel in 'aeiou']))"
   ]
  },
  {
   "cell_type": "code",
   "execution_count": 77,
   "id": "93a062ca-8af5-4f39-90bc-8b16b2e37b82",
   "metadata": {},
   "outputs": [
    {
     "data": {
      "text/plain": [
       "'de kat krabt de krullen van de trap abracadabra'"
      ]
     },
     "execution_count": 77,
     "metadata": {},
     "output_type": "execute_result"
    }
   ],
   "source": [
    "' '.join(woorden)"
   ]
  },
  {
   "cell_type": "code",
   "execution_count": 78,
   "id": "3242b641-c6eb-48b0-9f2b-2b53ff7c4b96",
   "metadata": {},
   "outputs": [
    {
     "data": {
      "text/plain": [
       "{'nl': '+31', 'b': '+32', 'f': '+34'}"
      ]
     },
     "execution_count": 78,
     "metadata": {},
     "output_type": "execute_result"
    }
   ],
   "source": [
    "d = {'nl': '+31', 'b': '+32', 'f': '+34'}\n",
    "d"
   ]
  },
  {
   "cell_type": "code",
   "execution_count": 79,
   "id": "4033619f-1228-441f-97cb-5f153e28d28d",
   "metadata": {},
   "outputs": [
    {
     "data": {
      "text/plain": [
       "dict"
      ]
     },
     "execution_count": 79,
     "metadata": {},
     "output_type": "execute_result"
    }
   ],
   "source": [
    "type(d)"
   ]
  },
  {
   "cell_type": "code",
   "execution_count": 80,
   "id": "cd89c1a1-b27f-45b6-a8bf-9b63bf06836b",
   "metadata": {},
   "outputs": [
    {
     "data": {
      "text/plain": [
       "'+31'"
      ]
     },
     "execution_count": 80,
     "metadata": {},
     "output_type": "execute_result"
    }
   ],
   "source": [
    "d['nl']"
   ]
  },
  {
   "cell_type": "code",
   "execution_count": 86,
   "id": "0bef1444-9dc8-406d-9b7d-fc84120b47b4",
   "metadata": {},
   "outputs": [],
   "source": [
    "d['de'] = '+49'"
   ]
  },
  {
   "cell_type": "code",
   "execution_count": 85,
   "id": "69fa1297-dc70-40ba-93c9-a47d8d5ce1c4",
   "metadata": {},
   "outputs": [
    {
     "data": {
      "text/plain": [
       "{'nl': '+31', 'b': '+32', 'f': '+34', 'de': '+99'}"
      ]
     },
     "execution_count": 85,
     "metadata": {},
     "output_type": "execute_result"
    }
   ],
   "source": [
    "d"
   ]
  },
  {
   "cell_type": "code",
   "execution_count": 87,
   "id": "2d475a7e-9f5f-489d-abe4-fe1cee69303a",
   "metadata": {},
   "outputs": [],
   "source": [
    "d['z'] = [1,3,6,'abcd',[7,8,9]]"
   ]
  },
  {
   "cell_type": "code",
   "execution_count": 88,
   "id": "de84d0ad-e535-433e-b76e-3086e5c0881b",
   "metadata": {},
   "outputs": [
    {
     "data": {
      "text/plain": [
       "{'nl': '+31',\n",
       " 'b': '+32',\n",
       " 'f': '+34',\n",
       " 'de': '+49',\n",
       " 'z': [1, 3, 6, 'abcd', [7, 8, 9]]}"
      ]
     },
     "execution_count": 88,
     "metadata": {},
     "output_type": "execute_result"
    }
   ],
   "source": [
    "d"
   ]
  },
  {
   "cell_type": "code",
   "execution_count": 91,
   "id": "2f62bde6-5f9d-46ed-9cc0-bad913c2c871",
   "metadata": {},
   "outputs": [
    {
     "data": {
      "text/plain": [
       "8"
      ]
     },
     "execution_count": 91,
     "metadata": {},
     "output_type": "execute_result"
    }
   ],
   "source": [
    "d['z'][4][1]"
   ]
  },
  {
   "cell_type": "code",
   "execution_count": 92,
   "id": "fe75a086-99cd-4b01-b4b1-0cbdb8c7dcec",
   "metadata": {},
   "outputs": [],
   "source": [
    "d = {\"coord\":{\"lon\":-74.006,\"lat\":40.7143},\"weather\":[{\"id\":802,\"main\":\"Clouds\",\"description\":\"scattered clouds\",\"icon\":\"03n\"}],\"base\":\"stations\",\"main\":{\"temp\":7.44,\"feels_like\":4.55,\"temp_min\":3.16,\"temp_max\":9.01,\"pressure\":1033,\"humidity\":64,\"sea_level\":1033,\"grnd_level\":1031},\"visibility\":10000,\"wind\":{\"speed\":4.63,\"deg\":70},\"clouds\":{\"all\":40},\"dt\":1730718777,\"sys\":{\"type\":2,\"id\":2037026,\"country\":\"US\",\"sunrise\":1730719823,\"sunset\":1730756927},\"timezone\":-18000,\"id\":5128581,\"name\":\"New York\",\"cod\":200}"
   ]
  },
  {
   "cell_type": "code",
   "execution_count": 95,
   "id": "b09e64c0-14b3-4b5b-ae7d-03c78d49d059",
   "metadata": {},
   "outputs": [
    {
     "data": {
      "text/plain": [
       "{'coord': {'lon': -74.006, 'lat': 40.7143},\n",
       " 'weather': [{'id': 802,\n",
       "   'main': 'Clouds',\n",
       "   'description': 'scattered clouds',\n",
       "   'icon': '03n'}],\n",
       " 'base': 'stations',\n",
       " 'main': {'temp': 7.44,\n",
       "  'feels_like': 4.55,\n",
       "  'temp_min': 3.16,\n",
       "  'temp_max': 9.01,\n",
       "  'pressure': 1033,\n",
       "  'humidity': 64,\n",
       "  'sea_level': 1033,\n",
       "  'grnd_level': 1031},\n",
       " 'visibility': 10000,\n",
       " 'wind': {'speed': 4.63, 'deg': 70},\n",
       " 'clouds': {'all': 40},\n",
       " 'dt': 1730718777,\n",
       " 'sys': {'type': 2,\n",
       "  'id': 2037026,\n",
       "  'country': 'US',\n",
       "  'sunrise': 1730719823,\n",
       "  'sunset': 1730756927},\n",
       " 'timezone': -18000,\n",
       " 'id': 5128581,\n",
       " 'name': 'New York',\n",
       " 'cod': 200}"
      ]
     },
     "execution_count": 95,
     "metadata": {},
     "output_type": "execute_result"
    }
   ],
   "source": [
    "d"
   ]
  },
  {
   "cell_type": "code",
   "execution_count": 98,
   "id": "c6a6bcfc-171a-402e-8ad3-664bea8c92c1",
   "metadata": {},
   "outputs": [],
   "source": [
    "temperatuur = d['main']['temp']"
   ]
  },
  {
   "cell_type": "code",
   "execution_count": 99,
   "id": "e7dd4056-fe35-4775-a4ab-666820aec172",
   "metadata": {},
   "outputs": [
    {
     "name": "stdout",
     "output_type": "stream",
     "text": [
      "Het is nu 7.44 in New York.\n"
     ]
    }
   ],
   "source": [
    "print(f'Het is nu {temperatuur} in New York.')"
   ]
  },
  {
   "cell_type": "code",
   "execution_count": null,
   "id": "5159c152-918e-4bc8-8cdb-482e4587bb85",
   "metadata": {},
   "outputs": [],
   "source": []
  }
 ],
 "metadata": {
  "kernelspec": {
   "display_name": "Python 3 (ipykernel)",
   "language": "python",
   "name": "python3"
  },
  "language_info": {
   "codemirror_mode": {
    "name": "ipython",
    "version": 3
   },
   "file_extension": ".py",
   "mimetype": "text/x-python",
   "name": "python",
   "nbconvert_exporter": "python",
   "pygments_lexer": "ipython3",
   "version": "3.11.9"
  }
 },
 "nbformat": 4,
 "nbformat_minor": 5
}
