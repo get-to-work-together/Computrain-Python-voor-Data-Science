{
 "cells": [
  {
   "cell_type": "markdown",
   "id": "fe5898c4-411b-46f0-9b7c-f865ac964c84",
   "metadata": {},
   "source": [
    "## Demo Object Oriented"
   ]
  },
  {
   "cell_type": "markdown",
   "id": "b39fcee0-7240-411b-a1b2-205e2d8c6e7e",
   "metadata": {},
   "source": [
    "### class str"
   ]
  },
  {
   "cell_type": "code",
   "execution_count": 1,
   "id": "579a6fcf-8cda-4608-8cc6-220a3c1132f4",
   "metadata": {},
   "outputs": [],
   "source": [
    "s = 'abc'"
   ]
  },
  {
   "cell_type": "code",
   "execution_count": 2,
   "id": "5ecd5d36-b7ad-4f10-8f95-6b1da05e3138",
   "metadata": {},
   "outputs": [
    {
     "data": {
      "text/plain": [
       "str"
      ]
     },
     "execution_count": 2,
     "metadata": {},
     "output_type": "execute_result"
    }
   ],
   "source": [
    "type(s)"
   ]
  },
  {
   "cell_type": "code",
   "execution_count": 3,
   "id": "69d4520d-1d08-4b17-83c6-7fb21cd25c25",
   "metadata": {},
   "outputs": [
    {
     "data": {
      "text/plain": [
       "['__add__',\n",
       " '__class__',\n",
       " '__contains__',\n",
       " '__delattr__',\n",
       " '__dir__',\n",
       " '__doc__',\n",
       " '__eq__',\n",
       " '__format__',\n",
       " '__ge__',\n",
       " '__getattribute__',\n",
       " '__getitem__',\n",
       " '__getnewargs__',\n",
       " '__getstate__',\n",
       " '__gt__',\n",
       " '__hash__',\n",
       " '__init__',\n",
       " '__init_subclass__',\n",
       " '__iter__',\n",
       " '__le__',\n",
       " '__len__',\n",
       " '__lt__',\n",
       " '__mod__',\n",
       " '__mul__',\n",
       " '__ne__',\n",
       " '__new__',\n",
       " '__reduce__',\n",
       " '__reduce_ex__',\n",
       " '__repr__',\n",
       " '__rmod__',\n",
       " '__rmul__',\n",
       " '__setattr__',\n",
       " '__sizeof__',\n",
       " '__str__',\n",
       " '__subclasshook__',\n",
       " 'capitalize',\n",
       " 'casefold',\n",
       " 'center',\n",
       " 'count',\n",
       " 'encode',\n",
       " 'endswith',\n",
       " 'expandtabs',\n",
       " 'find',\n",
       " 'format',\n",
       " 'format_map',\n",
       " 'index',\n",
       " 'isalnum',\n",
       " 'isalpha',\n",
       " 'isascii',\n",
       " 'isdecimal',\n",
       " 'isdigit',\n",
       " 'isidentifier',\n",
       " 'islower',\n",
       " 'isnumeric',\n",
       " 'isprintable',\n",
       " 'isspace',\n",
       " 'istitle',\n",
       " 'isupper',\n",
       " 'join',\n",
       " 'ljust',\n",
       " 'lower',\n",
       " 'lstrip',\n",
       " 'maketrans',\n",
       " 'partition',\n",
       " 'removeprefix',\n",
       " 'removesuffix',\n",
       " 'replace',\n",
       " 'rfind',\n",
       " 'rindex',\n",
       " 'rjust',\n",
       " 'rpartition',\n",
       " 'rsplit',\n",
       " 'rstrip',\n",
       " 'split',\n",
       " 'splitlines',\n",
       " 'startswith',\n",
       " 'strip',\n",
       " 'swapcase',\n",
       " 'title',\n",
       " 'translate',\n",
       " 'upper',\n",
       " 'zfill']"
      ]
     },
     "execution_count": 3,
     "metadata": {},
     "output_type": "execute_result"
    }
   ],
   "source": [
    "dir(str)"
   ]
  },
  {
   "cell_type": "code",
   "execution_count": 4,
   "id": "88047b6f-1eaa-49d1-afd7-8d792b501092",
   "metadata": {},
   "outputs": [
    {
     "data": {
      "text/plain": [
       "'ABC'"
      ]
     },
     "execution_count": 4,
     "metadata": {},
     "output_type": "execute_result"
    }
   ],
   "source": [
    "s.upper()"
   ]
  },
  {
   "cell_type": "markdown",
   "id": "f2c1062d-3314-4cd5-952b-9b1621352c4f",
   "metadata": {},
   "source": [
    "### class list"
   ]
  },
  {
   "cell_type": "code",
   "execution_count": 5,
   "id": "5d3331e0-584e-4422-a161-b875f890e188",
   "metadata": {},
   "outputs": [],
   "source": [
    "numbers = list(range(20))"
   ]
  },
  {
   "cell_type": "code",
   "execution_count": 6,
   "id": "92a403e1-31f7-410e-b5c1-c572f5cb0b73",
   "metadata": {},
   "outputs": [
    {
     "data": {
      "text/plain": [
       "[0, 1, 2, 3, 4, 5, 6, 7, 8, 9, 10, 11, 12, 13, 14, 15, 16, 17, 18, 19]"
      ]
     },
     "execution_count": 6,
     "metadata": {},
     "output_type": "execute_result"
    }
   ],
   "source": [
    "numbers"
   ]
  },
  {
   "cell_type": "code",
   "execution_count": 7,
   "id": "0f4fde9d-1f35-4d55-9087-3e44d0c5389f",
   "metadata": {},
   "outputs": [
    {
     "data": {
      "text/plain": [
       "list"
      ]
     },
     "execution_count": 7,
     "metadata": {},
     "output_type": "execute_result"
    }
   ],
   "source": [
    "type(numbers)"
   ]
  },
  {
   "cell_type": "code",
   "execution_count": 8,
   "id": "22194879-e777-48fe-960f-42b5c5ed2e9b",
   "metadata": {},
   "outputs": [
    {
     "data": {
      "text/plain": [
       "['__add__',\n",
       " '__class__',\n",
       " '__class_getitem__',\n",
       " '__contains__',\n",
       " '__delattr__',\n",
       " '__delitem__',\n",
       " '__dir__',\n",
       " '__doc__',\n",
       " '__eq__',\n",
       " '__format__',\n",
       " '__ge__',\n",
       " '__getattribute__',\n",
       " '__getitem__',\n",
       " '__getstate__',\n",
       " '__gt__',\n",
       " '__hash__',\n",
       " '__iadd__',\n",
       " '__imul__',\n",
       " '__init__',\n",
       " '__init_subclass__',\n",
       " '__iter__',\n",
       " '__le__',\n",
       " '__len__',\n",
       " '__lt__',\n",
       " '__mul__',\n",
       " '__ne__',\n",
       " '__new__',\n",
       " '__reduce__',\n",
       " '__reduce_ex__',\n",
       " '__repr__',\n",
       " '__reversed__',\n",
       " '__rmul__',\n",
       " '__setattr__',\n",
       " '__setitem__',\n",
       " '__sizeof__',\n",
       " '__str__',\n",
       " '__subclasshook__',\n",
       " 'append',\n",
       " 'clear',\n",
       " 'copy',\n",
       " 'count',\n",
       " 'extend',\n",
       " 'index',\n",
       " 'insert',\n",
       " 'pop',\n",
       " 'remove',\n",
       " 'reverse',\n",
       " 'sort']"
      ]
     },
     "execution_count": 8,
     "metadata": {},
     "output_type": "execute_result"
    }
   ],
   "source": [
    "dir(list)"
   ]
  },
  {
   "cell_type": "code",
   "execution_count": 9,
   "id": "57de46d3-5c3f-4cba-8719-485400386234",
   "metadata": {},
   "outputs": [],
   "source": [
    "numbers.append(9)"
   ]
  },
  {
   "cell_type": "code",
   "execution_count": 10,
   "id": "4237c29b-b7ed-420a-b27c-41675341ab7d",
   "metadata": {},
   "outputs": [
    {
     "data": {
      "text/plain": [
       "[0, 1, 2, 3, 4, 5, 6, 7, 8, 9, 10, 11, 12, 13, 14, 15, 16, 17, 18, 19, 9]"
      ]
     },
     "execution_count": 10,
     "metadata": {},
     "output_type": "execute_result"
    }
   ],
   "source": [
    "numbers"
   ]
  },
  {
   "cell_type": "markdown",
   "id": "3ebd352c-29a1-4f5f-9cc3-283081475b93",
   "metadata": {},
   "source": [
    "## Demo class"
   ]
  },
  {
   "cell_type": "code",
   "execution_count": 22,
   "id": "07b9d243-6a37-491a-9519-afd7f1d673e1",
   "metadata": {},
   "outputs": [],
   "source": [
    "from dataclasses import dataclass\n",
    "\n",
    "@dataclass\n",
    "class BankAccount:\n",
    "    nr: str\n",
    "    naam: str\n",
    "    saldo: int\n",
    "\n",
    "    def storten(self, bedrag):\n",
    "        self.saldo = self.saldo + bedrag\n",
    "\n",
    "    def opnemen(self, bedrag):\n",
    "        self.saldo = self.saldo - bedrag"
   ]
  },
  {
   "cell_type": "code",
   "execution_count": 40,
   "id": "861eb400-f8c1-4a2d-a3df-47a841401b1a",
   "metadata": {},
   "outputs": [],
   "source": [
    "class BankAccount:\n",
    "\n",
    "    def __init__(self, nr: str, naam: str, saldo: int):\n",
    "        self.nr = nr\n",
    "        self.naam = naam\n",
    "        self.saldo = saldo\n",
    "\n",
    "    def storten(self, bedrag):\n",
    "        self.saldo = self.saldo + bedrag\n",
    "\n",
    "    def opnemen(self, bedrag):\n",
    "        self.saldo = self.saldo - bedrag"
   ]
  },
  {
   "cell_type": "code",
   "execution_count": 33,
   "id": "3740cf14-78a8-4b64-8ef4-60203adc78be",
   "metadata": {},
   "outputs": [],
   "source": [
    "account1 = BankAccount('NL81ABCD0123458934', 'Peter', 0)\n",
    "account2 = BankAccount('NL81ABCD0123458123', 'Vincent', 100)"
   ]
  },
  {
   "cell_type": "code",
   "execution_count": 24,
   "id": "6f945ec4-9637-48a7-80a7-200e560a4df0",
   "metadata": {},
   "outputs": [
    {
     "data": {
      "text/plain": [
       "__main__.BankAccount"
      ]
     },
     "execution_count": 24,
     "metadata": {},
     "output_type": "execute_result"
    }
   ],
   "source": [
    "type(account1)"
   ]
  },
  {
   "cell_type": "code",
   "execution_count": 25,
   "id": "7ec3706e-6495-4fdd-a541-3ff41009dc5a",
   "metadata": {},
   "outputs": [
    {
     "data": {
      "text/plain": [
       "'NL81ABCD0123458934'"
      ]
     },
     "execution_count": 25,
     "metadata": {},
     "output_type": "execute_result"
    }
   ],
   "source": [
    "account1.nr"
   ]
  },
  {
   "cell_type": "code",
   "execution_count": 26,
   "id": "d3d53f20-1a4d-400c-b030-876a5a26a6b9",
   "metadata": {},
   "outputs": [
    {
     "data": {
      "text/plain": [
       "'Peter'"
      ]
     },
     "execution_count": 26,
     "metadata": {},
     "output_type": "execute_result"
    }
   ],
   "source": [
    "account1.naam"
   ]
  },
  {
   "cell_type": "code",
   "execution_count": 27,
   "id": "cb62cc04-3975-423f-8af9-b62e951aadf2",
   "metadata": {},
   "outputs": [
    {
     "data": {
      "text/plain": [
       "0"
      ]
     },
     "execution_count": 27,
     "metadata": {},
     "output_type": "execute_result"
    }
   ],
   "source": [
    "account1.saldo"
   ]
  },
  {
   "cell_type": "code",
   "execution_count": 32,
   "id": "9bc0a7af-d97b-435c-a5b1-6c8842a7d3b7",
   "metadata": {},
   "outputs": [],
   "source": [
    "account1.storten(1000)\n",
    "BankAccount.storten(account1, 1000)"
   ]
  },
  {
   "cell_type": "code",
   "execution_count": 29,
   "id": "c7f5ec4c-02d3-4e26-bfea-5d16eae3a867",
   "metadata": {},
   "outputs": [
    {
     "data": {
      "text/plain": [
       "1000"
      ]
     },
     "execution_count": 29,
     "metadata": {},
     "output_type": "execute_result"
    }
   ],
   "source": [
    "account1.saldo"
   ]
  },
  {
   "cell_type": "code",
   "execution_count": 30,
   "id": "ead78c96-0569-4766-be4d-fddd8839acb0",
   "metadata": {},
   "outputs": [],
   "source": [
    "account1.opnemen(244)"
   ]
  },
  {
   "cell_type": "code",
   "execution_count": 31,
   "id": "15ef9fb8-941a-4af1-a057-596ea02975f3",
   "metadata": {},
   "outputs": [
    {
     "data": {
      "text/plain": [
       "756"
      ]
     },
     "execution_count": 31,
     "metadata": {},
     "output_type": "execute_result"
    }
   ],
   "source": [
    "account1.saldo"
   ]
  },
  {
   "cell_type": "code",
   "execution_count": 34,
   "id": "2e333d28-aa8b-49d8-8430-8a2cffa78396",
   "metadata": {},
   "outputs": [],
   "source": [
    "account2.storten(1000)"
   ]
  },
  {
   "cell_type": "code",
   "execution_count": 35,
   "id": "3b84c934-8f08-4462-802a-15c3c4682bdb",
   "metadata": {},
   "outputs": [
    {
     "data": {
      "text/plain": [
       "1100"
      ]
     },
     "execution_count": 35,
     "metadata": {},
     "output_type": "execute_result"
    }
   ],
   "source": [
    "account2.saldo"
   ]
  },
  {
   "cell_type": "code",
   "execution_count": null,
   "id": "e2f646b0-1806-4967-bfd8-af95d80d7592",
   "metadata": {},
   "outputs": [],
   "source": []
  }
 ],
 "metadata": {
  "kernelspec": {
   "display_name": "Python 3 (ipykernel)",
   "language": "python",
   "name": "python3"
  },
  "language_info": {
   "codemirror_mode": {
    "name": "ipython",
    "version": 3
   },
   "file_extension": ".py",
   "mimetype": "text/x-python",
   "name": "python",
   "nbconvert_exporter": "python",
   "pygments_lexer": "ipython3",
   "version": "3.11.9"
  }
 },
 "nbformat": 4,
 "nbformat_minor": 5
}
