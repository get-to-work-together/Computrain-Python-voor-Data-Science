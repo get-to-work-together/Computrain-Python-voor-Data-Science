{
 "cells": [
  {
   "cell_type": "code",
   "execution_count": 1,
   "id": "e984523b-25c7-45b8-afa8-202dd7537534",
   "metadata": {},
   "outputs": [],
   "source": [
    "import requests"
   ]
  },
  {
   "cell_type": "code",
   "execution_count": 6,
   "id": "5c095074-9151-4e98-ba7c-b3cab106ff62",
   "metadata": {},
   "outputs": [],
   "source": [
    "appid = 'd1526a9039658a6f76950cff21823aff'"
   ]
  },
  {
   "cell_type": "code",
   "execution_count": 62,
   "id": "a2959c67-0cee-45a5-92ea-913d52c96b3b",
   "metadata": {},
   "outputs": [],
   "source": [
    "city = 'Utrecht'"
   ]
  },
  {
   "cell_type": "code",
   "execution_count": 63,
   "id": "1e280413-9021-4e22-9192-51a7e61c23b5",
   "metadata": {},
   "outputs": [
    {
     "data": {
      "text/plain": [
       "'http://api.openweathermap.org/data/2.5/weather?appid=d1526a9039658a6f76950cff21823aff&units=metric&mode=json&q=Utrecht'"
      ]
     },
     "execution_count": 63,
     "metadata": {},
     "output_type": "execute_result"
    }
   ],
   "source": [
    "url = 'http://api.openweathermap.org/data/2.5/weather'\n",
    "url += '?appid=' + appid\n",
    "url += '&units=metric'\n",
    "url += '&mode=json'\n",
    "url += '&q=' + city\n",
    "\n",
    "url"
   ]
  },
  {
   "cell_type": "code",
   "execution_count": 64,
   "id": "ccae6143-5d55-4687-8dc8-969e23947a57",
   "metadata": {},
   "outputs": [],
   "source": [
    "response = requests.get(url)"
   ]
  },
  {
   "cell_type": "code",
   "execution_count": 59,
   "id": "eb29ded9-afd6-4760-90dc-a7813c5b196f",
   "metadata": {},
   "outputs": [
    {
     "data": {
      "text/plain": [
       "requests.models.Response"
      ]
     },
     "execution_count": 59,
     "metadata": {},
     "output_type": "execute_result"
    }
   ],
   "source": [
    "type(response)"
   ]
  },
  {
   "cell_type": "code",
   "execution_count": 60,
   "id": "4e14a71b-3977-49c6-962e-b6996e34354f",
   "metadata": {},
   "outputs": [
    {
     "data": {
      "text/plain": [
       "['__attrs__',\n",
       " '__bool__',\n",
       " '__class__',\n",
       " '__delattr__',\n",
       " '__dict__',\n",
       " '__dir__',\n",
       " '__doc__',\n",
       " '__enter__',\n",
       " '__eq__',\n",
       " '__exit__',\n",
       " '__format__',\n",
       " '__ge__',\n",
       " '__getattribute__',\n",
       " '__getstate__',\n",
       " '__gt__',\n",
       " '__hash__',\n",
       " '__init__',\n",
       " '__init_subclass__',\n",
       " '__iter__',\n",
       " '__le__',\n",
       " '__lt__',\n",
       " '__module__',\n",
       " '__ne__',\n",
       " '__new__',\n",
       " '__nonzero__',\n",
       " '__reduce__',\n",
       " '__reduce_ex__',\n",
       " '__repr__',\n",
       " '__setattr__',\n",
       " '__setstate__',\n",
       " '__sizeof__',\n",
       " '__str__',\n",
       " '__subclasshook__',\n",
       " '__weakref__',\n",
       " '_content',\n",
       " '_content_consumed',\n",
       " '_next',\n",
       " 'apparent_encoding',\n",
       " 'close',\n",
       " 'connection',\n",
       " 'content',\n",
       " 'cookies',\n",
       " 'elapsed',\n",
       " 'encoding',\n",
       " 'headers',\n",
       " 'history',\n",
       " 'is_permanent_redirect',\n",
       " 'is_redirect',\n",
       " 'iter_content',\n",
       " 'iter_lines',\n",
       " 'json',\n",
       " 'links',\n",
       " 'next',\n",
       " 'ok',\n",
       " 'raise_for_status',\n",
       " 'raw',\n",
       " 'reason',\n",
       " 'request',\n",
       " 'status_code',\n",
       " 'text',\n",
       " 'url']"
      ]
     },
     "execution_count": 60,
     "metadata": {},
     "output_type": "execute_result"
    }
   ],
   "source": [
    "dir(response)"
   ]
  },
  {
   "cell_type": "code",
   "execution_count": 61,
   "id": "5abe19cb-0dce-4fcf-bee6-b57675e1840a",
   "metadata": {},
   "outputs": [
    {
     "data": {
      "text/plain": [
       "404"
      ]
     },
     "execution_count": 61,
     "metadata": {},
     "output_type": "execute_result"
    }
   ],
   "source": [
    "response.status_code"
   ]
  },
  {
   "cell_type": "code",
   "execution_count": 55,
   "id": "a1b244d2-5180-417a-97e8-3a2b18f31c5a",
   "metadata": {},
   "outputs": [
    {
     "data": {
      "text/plain": [
       "{'cod': '404', 'message': 'city not found'}"
      ]
     },
     "execution_count": 55,
     "metadata": {},
     "output_type": "execute_result"
    }
   ],
   "source": [
    "data = response.json()\n",
    "data"
   ]
  },
  {
   "cell_type": "code",
   "execution_count": 24,
   "id": "f59e5446-e8ec-4841-af4f-922518b3d80d",
   "metadata": {},
   "outputs": [
    {
     "data": {
      "text/plain": [
       "18.24"
      ]
     },
     "execution_count": 24,
     "metadata": {},
     "output_type": "execute_result"
    }
   ],
   "source": [
    "temperatuur = data['main']['temp']\n",
    "temperatuur"
   ]
  },
  {
   "cell_type": "code",
   "execution_count": 41,
   "id": "c123a90f-b5cf-4132-a2eb-a452ef973f90",
   "metadata": {},
   "outputs": [
    {
     "name": "stdout",
     "output_type": "stream",
     "text": [
      "Het is nu 18℃ in Paris.\n"
     ]
    }
   ],
   "source": [
    "print(f'Het is nu {data[\"main\"][\"temp\"]:.0f}\\u2103 in {city}.')"
   ]
  },
  {
   "cell_type": "markdown",
   "id": "2eefb1c5-7a07-4c84-9d94-3bc40c6b8250",
   "metadata": {},
   "source": [
    "### Forecast"
   ]
  },
  {
   "cell_type": "code",
   "execution_count": 81,
   "id": "8e9e9145-bdc1-40bd-b4d5-c4ce135d67f3",
   "metadata": {},
   "outputs": [
    {
     "data": {
      "text/plain": [
       "'http://api.openweathermap.org/data/2.5/forecast/daily?appid=d1526a9039658a6f76950cff21823aff&units=metric&mode=json&cnt=16&q=Utrecht'"
      ]
     },
     "execution_count": 81,
     "metadata": {},
     "output_type": "execute_result"
    }
   ],
   "source": [
    "url = 'http://api.openweathermap.org/data/2.5/forecast/daily'\n",
    "url += '?appid=' + appid\n",
    "url += '&units=metric'\n",
    "url += '&mode=json'\n",
    "url += '&cnt=16'\n",
    "url += '&q=' + city\n",
    "\n",
    "url"
   ]
  },
  {
   "cell_type": "code",
   "execution_count": 82,
   "id": "cf2c7ec5-9577-41c8-ab53-2e67a009b0aa",
   "metadata": {},
   "outputs": [],
   "source": [
    "response = requests.get(url)"
   ]
  },
  {
   "cell_type": "code",
   "execution_count": 83,
   "id": "85394b9b-862b-41a1-8d96-e104d3e8e826",
   "metadata": {},
   "outputs": [
    {
     "data": {
      "text/plain": [
       "200"
      ]
     },
     "execution_count": 83,
     "metadata": {},
     "output_type": "execute_result"
    }
   ],
   "source": [
    "response.status_code"
   ]
  },
  {
   "cell_type": "code",
   "execution_count": 84,
   "id": "385ad9b2-6d65-46f0-926e-bf04b7672ccd",
   "metadata": {},
   "outputs": [
    {
     "data": {
      "text/plain": [
       "{'city': {'id': 2745909,\n",
       "  'name': 'Provincie Utrecht',\n",
       "  'coord': {'lon': 5.25, 'lat': 52},\n",
       "  'country': 'NL',\n",
       "  'population': 1170622,\n",
       "  'timezone': 3600},\n",
       " 'cod': '200',\n",
       " 'message': 4.3798574,\n",
       " 'cnt': 16,\n",
       " 'list': [{'dt': 1730718000,\n",
       "   'sunrise': 1730702385,\n",
       "   'sunset': 1730736322,\n",
       "   'temp': {'day': 12.25,\n",
       "    'min': 4.43,\n",
       "    'max': 13.08,\n",
       "    'night': 6.69,\n",
       "    'eve': 9.93,\n",
       "    'morn': 4.52},\n",
       "   'feels_like': {'day': 11.2, 'night': 4.3, 'eve': 8.2, 'morn': 1.98},\n",
       "   'pressure': 1027,\n",
       "   'humidity': 64,\n",
       "   'weather': [{'id': 803,\n",
       "     'main': 'Clouds',\n",
       "     'description': 'broken clouds',\n",
       "     'icon': '04d'}],\n",
       "   'speed': 4.06,\n",
       "   'deg': 99,\n",
       "   'gust': 7.04,\n",
       "   'clouds': 52,\n",
       "   'pop': 0},\n",
       "  {'dt': 1730804400,\n",
       "   'sunrise': 1730788893,\n",
       "   'sunset': 1730822618,\n",
       "   'temp': {'day': 11.37,\n",
       "    'min': 4.82,\n",
       "    'max': 12.68,\n",
       "    'night': 6.75,\n",
       "    'eve': 7.98,\n",
       "    'morn': 5.19},\n",
       "   'feels_like': {'day': 10.08, 'night': 6.75, 'eve': 7.98, 'morn': 2.98},\n",
       "   'pressure': 1023,\n",
       "   'humidity': 58,\n",
       "   'weather': [{'id': 801,\n",
       "     'main': 'Clouds',\n",
       "     'description': 'few clouds',\n",
       "     'icon': '02d'}],\n",
       "   'speed': 3.06,\n",
       "   'deg': 123,\n",
       "   'gust': 5.05,\n",
       "   'clouds': 12,\n",
       "   'pop': 0},\n",
       "  {'dt': 1730890800,\n",
       "   'sunrise': 1730875402,\n",
       "   'sunset': 1730908915,\n",
       "   'temp': {'day': 12.73,\n",
       "    'min': 6.21,\n",
       "    'max': 14.06,\n",
       "    'night': 7.93,\n",
       "    'eve': 9.57,\n",
       "    'morn': 6.26},\n",
       "   'feels_like': {'day': 11.63, 'night': 7.47, 'eve': 9.57, 'morn': 6.26},\n",
       "   'pressure': 1029,\n",
       "   'humidity': 60,\n",
       "   'weather': [{'id': 801,\n",
       "     'main': 'Clouds',\n",
       "     'description': 'few clouds',\n",
       "     'icon': '02d'}],\n",
       "   'speed': 1.52,\n",
       "   'deg': 252,\n",
       "   'gust': 1.73,\n",
       "   'clouds': 18,\n",
       "   'pop': 0},\n",
       "  {'dt': 1730977200,\n",
       "   'sunrise': 1730961911,\n",
       "   'sunset': 1730995215,\n",
       "   'temp': {'day': 12.08,\n",
       "    'min': 5.88,\n",
       "    'max': 13.25,\n",
       "    'night': 6.35,\n",
       "    'eve': 7.56,\n",
       "    'morn': 6.18},\n",
       "   'feels_like': {'day': 10.94, 'night': 4.09, 'eve': 5.49, 'morn': 4.85},\n",
       "   'pressure': 1030,\n",
       "   'humidity': 61,\n",
       "   'weather': [{'id': 800,\n",
       "     'main': 'Clear',\n",
       "     'description': 'sky is clear',\n",
       "     'icon': '01d'}],\n",
       "   'speed': 3.27,\n",
       "   'deg': 78,\n",
       "   'gust': 5.4,\n",
       "   'clouds': 3,\n",
       "   'pop': 0},\n",
       "  {'dt': 1731063600,\n",
       "   'sunrise': 1731048419,\n",
       "   'sunset': 1731081516,\n",
       "   'temp': {'day': 12.18,\n",
       "    'min': 4.94,\n",
       "    'max': 12.18,\n",
       "    'night': 8.13,\n",
       "    'eve': 8.34,\n",
       "    'morn': 4.94},\n",
       "   'feels_like': {'day': 11.2, 'night': 7.31, 'eve': 6.89, 'morn': 2.49},\n",
       "   'pressure': 1025,\n",
       "   'humidity': 67,\n",
       "   'weather': [{'id': 801,\n",
       "     'main': 'Clouds',\n",
       "     'description': 'few clouds',\n",
       "     'icon': '02d'}],\n",
       "   'speed': 3.43,\n",
       "   'deg': 121,\n",
       "   'gust': 6.14,\n",
       "   'clouds': 18,\n",
       "   'pop': 0},\n",
       "  {'dt': 1731150000,\n",
       "   'sunrise': 1731134928,\n",
       "   'sunset': 1731167820,\n",
       "   'temp': {'day': 13.91,\n",
       "    'min': 8.11,\n",
       "    'max': 13.91,\n",
       "    'night': 8.58,\n",
       "    'eve': 9.5,\n",
       "    'morn': 8.11},\n",
       "   'feels_like': {'day': 13.34, 'night': 8.58, 'eve': 9.5, 'morn': 7.59},\n",
       "   'pressure': 1029,\n",
       "   'humidity': 76,\n",
       "   'weather': [{'id': 800,\n",
       "     'main': 'Clear',\n",
       "     'description': 'sky is clear',\n",
       "     'icon': '01d'}],\n",
       "   'speed': 1.8,\n",
       "   'deg': 125,\n",
       "   'gust': 1.75,\n",
       "   'clouds': 7,\n",
       "   'pop': 0},\n",
       "  {'dt': 1731236400,\n",
       "   'sunrise': 1731221435,\n",
       "   'sunset': 1731254125,\n",
       "   'temp': {'day': 12.63,\n",
       "    'min': 6.77,\n",
       "    'max': 12.63,\n",
       "    'night': 7.43,\n",
       "    'eve': 8.15,\n",
       "    'morn': 6.77},\n",
       "   'feels_like': {'day': 11.91, 'night': 5.44, 'eve': 6.32, 'morn': 5.82},\n",
       "   'pressure': 1031,\n",
       "   'humidity': 75,\n",
       "   'weather': [{'id': 800,\n",
       "     'main': 'Clear',\n",
       "     'description': 'sky is clear',\n",
       "     'icon': '01d'}],\n",
       "   'speed': 2.97,\n",
       "   'deg': 43,\n",
       "   'gust': 4.92,\n",
       "   'clouds': 2,\n",
       "   'pop': 0},\n",
       "  {'dt': 1731322800,\n",
       "   'sunrise': 1731307943,\n",
       "   'sunset': 1731340432,\n",
       "   'temp': {'day': 10.98,\n",
       "    'min': 5.13,\n",
       "    'max': 10.98,\n",
       "    'night': 5.13,\n",
       "    'eve': 6.01,\n",
       "    'morn': 5.36},\n",
       "   'feels_like': {'day': 9.91, 'night': 2.61, 'eve': 3.47, 'morn': 2.83},\n",
       "   'pressure': 1034,\n",
       "   'humidity': 68,\n",
       "   'weather': [{'id': 800,\n",
       "     'main': 'Clear',\n",
       "     'description': 'sky is clear',\n",
       "     'icon': '01d'}],\n",
       "   'speed': 4.24,\n",
       "   'deg': 48,\n",
       "   'gust': 8.28,\n",
       "   'clouds': 6,\n",
       "   'pop': 0},\n",
       "  {'dt': 1731409200,\n",
       "   'sunrise': 1731394450,\n",
       "   'sunset': 1731426742,\n",
       "   'temp': {'day': 9.43,\n",
       "    'min': 3.45,\n",
       "    'max': 9.43,\n",
       "    'night': 4.24,\n",
       "    'eve': 5.01,\n",
       "    'morn': 3.45},\n",
       "   'feels_like': {'day': 7.04, 'night': 1.62, 'eve': 2.21, 'morn': 0.51},\n",
       "   'pressure': 1035,\n",
       "   'humidity': 67,\n",
       "   'weather': [{'id': 800,\n",
       "     'main': 'Clear',\n",
       "     'description': 'sky is clear',\n",
       "     'icon': '01d'}],\n",
       "   'speed': 4.59,\n",
       "   'deg': 50,\n",
       "   'gust': 8.19,\n",
       "   'clouds': 4,\n",
       "   'pop': 0},\n",
       "  {'dt': 1731495600,\n",
       "   'sunrise': 1731480957,\n",
       "   'sunset': 1731513053,\n",
       "   'temp': {'day': 9.41,\n",
       "    'min': 3.11,\n",
       "    'max': 9.41,\n",
       "    'night': 4.18,\n",
       "    'eve': 5.05,\n",
       "    'morn': 3.11},\n",
       "   'feels_like': {'day': 8.78, 'night': 1.65, 'eve': 2.7, 'morn': 1.17},\n",
       "   'pressure': 1032,\n",
       "   'humidity': 67,\n",
       "   'weather': [{'id': 803,\n",
       "     'main': 'Clouds',\n",
       "     'description': 'broken clouds',\n",
       "     'icon': '04d'}],\n",
       "   'speed': 2.85,\n",
       "   'deg': 40,\n",
       "   'gust': 4.45,\n",
       "   'clouds': 74,\n",
       "   'pop': 0},\n",
       "  {'dt': 1731582000,\n",
       "   'sunrise': 1731567463,\n",
       "   'sunset': 1731599367,\n",
       "   'temp': {'day': 7.44,\n",
       "    'min': 2.63,\n",
       "    'max': 7.44,\n",
       "    'night': 3.06,\n",
       "    'eve': 3.58,\n",
       "    'morn': 2.63},\n",
       "   'feels_like': {'day': 4.8, 'night': 3.06, 'eve': 2.33, 'morn': -0.73},\n",
       "   'pressure': 1029,\n",
       "   'humidity': 70,\n",
       "   'weather': [{'id': 804,\n",
       "     'main': 'Clouds',\n",
       "     'description': 'overcast clouds',\n",
       "     'icon': '04d'}],\n",
       "   'speed': 4.12,\n",
       "   'deg': 59,\n",
       "   'gust': 9.66,\n",
       "   'clouds': 100,\n",
       "   'pop': 0},\n",
       "  {'dt': 1731668400,\n",
       "   'sunrise': 1731653969,\n",
       "   'sunset': 1731685683,\n",
       "   'temp': {'day': 4.58,\n",
       "    'min': 1.6,\n",
       "    'max': 6.62,\n",
       "    'night': 6.62,\n",
       "    'eve': 5.91,\n",
       "    'morn': 1.76},\n",
       "   'feels_like': {'day': 1.77, 'night': 6.62, 'eve': 4.72, 'morn': -0.53},\n",
       "   'pressure': 1020,\n",
       "   'humidity': 84,\n",
       "   'weather': [{'id': 500,\n",
       "     'main': 'Rain',\n",
       "     'description': 'light rain',\n",
       "     'icon': '10d'}],\n",
       "   'speed': 3.33,\n",
       "   'deg': 220,\n",
       "   'gust': 6.73,\n",
       "   'clouds': 100,\n",
       "   'pop': 0.2,\n",
       "   'rain': 0.18},\n",
       "  {'dt': 1731754800,\n",
       "   'sunrise': 1731740474,\n",
       "   'sunset': 1731772002,\n",
       "   'temp': {'day': 7.44,\n",
       "    'min': 5.9,\n",
       "    'max': 7.44,\n",
       "    'night': 7.12,\n",
       "    'eve': 6.76,\n",
       "    'morn': 5.9},\n",
       "   'feels_like': {'day': 6.5, 'night': 5.61, 'eve': 5.56, 'morn': 4.3},\n",
       "   'pressure': 1015,\n",
       "   'humidity': 84,\n",
       "   'weather': [{'id': 804,\n",
       "     'main': 'Clouds',\n",
       "     'description': 'overcast clouds',\n",
       "     'icon': '04d'}],\n",
       "   'speed': 2.38,\n",
       "   'deg': 161,\n",
       "   'gust': 4.59,\n",
       "   'clouds': 100,\n",
       "   'pop': 0},\n",
       "  {'dt': 1731841200,\n",
       "   'sunrise': 1731826978,\n",
       "   'sunset': 1731858322,\n",
       "   'temp': {'day': 7.88,\n",
       "    'min': 3.66,\n",
       "    'max': 8.28,\n",
       "    'night': 3.79,\n",
       "    'eve': 3.66,\n",
       "    'morn': 6.55},\n",
       "   'feels_like': {'day': 4.52, 'night': 0.54, 'eve': 0.51, 'morn': 3.2},\n",
       "   'pressure': 1010,\n",
       "   'humidity': 61,\n",
       "   'weather': [{'id': 500,\n",
       "     'main': 'Rain',\n",
       "     'description': 'light rain',\n",
       "     'icon': '10d'}],\n",
       "   'speed': 6.28,\n",
       "   'deg': 336,\n",
       "   'gust': 10.86,\n",
       "   'clouds': 100,\n",
       "   'pop': 0.29,\n",
       "   'rain': 0.96},\n",
       "  {'dt': 1731927600,\n",
       "   'sunrise': 1731913481,\n",
       "   'sunset': 1731944645,\n",
       "   'temp': {'day': 6.8,\n",
       "    'min': 3.3,\n",
       "    'max': 6.8,\n",
       "    'night': 3.3,\n",
       "    'eve': 4.18,\n",
       "    'morn': 3.66},\n",
       "   'feels_like': {'day': 4.05, 'night': 0.24, 'eve': 1.33, 'morn': 0.69},\n",
       "   'pressure': 1011,\n",
       "   'humidity': 55,\n",
       "   'weather': [{'id': 500,\n",
       "     'main': 'Rain',\n",
       "     'description': 'light rain',\n",
       "     'icon': '10d'}],\n",
       "   'speed': 4.04,\n",
       "   'deg': 291,\n",
       "   'gust': 9.38,\n",
       "   'clouds': 100,\n",
       "   'pop': 0.74,\n",
       "   'rain': 0.93},\n",
       "  {'dt': 1732014000,\n",
       "   'sunrise': 1731999984,\n",
       "   'sunset': 1732030971,\n",
       "   'temp': {'day': 5.45,\n",
       "    'min': 1.11,\n",
       "    'max': 5.45,\n",
       "    'night': 4.12,\n",
       "    'eve': 4.03,\n",
       "    'morn': 1.11},\n",
       "   'feels_like': {'day': 1.6, 'night': -0.28, 'eve': -0.94, 'morn': -2.05},\n",
       "   'pressure': 1011,\n",
       "   'humidity': 75,\n",
       "   'weather': [{'id': 616,\n",
       "     'main': 'Snow',\n",
       "     'description': 'rain and snow',\n",
       "     'icon': '13d'}],\n",
       "   'speed': 7.57,\n",
       "   'deg': 295,\n",
       "   'gust': 13.5,\n",
       "   'clouds': 96,\n",
       "   'pop': 1,\n",
       "   'rain': 3,\n",
       "   'snow': 0.48}]}"
      ]
     },
     "execution_count": 84,
     "metadata": {},
     "output_type": "execute_result"
    }
   ],
   "source": [
    "data = response.json()\n",
    "data"
   ]
  },
  {
   "cell_type": "code",
   "execution_count": 123,
   "id": "0fa8aa2a-4456-4242-9f9a-517d450b29a1",
   "metadata": {},
   "outputs": [
    {
     "name": "stdout",
     "output_type": "stream",
     "text": [
      "ma 04 november 12.25\n",
      "di 05 november 11.37\n",
      "wo 06 november 12.73\n",
      "do 07 november 12.08\n",
      "vr 08 november 12.18\n",
      "za 09 november 13.91\n",
      "zo 10 november 12.63\n",
      "ma 11 november 10.98\n",
      "di 12 november 9.43\n",
      "wo 13 november 9.41\n",
      "do 14 november 7.44\n",
      "vr 15 november 4.58\n",
      "za 16 november 7.44\n",
      "zo 17 november 7.88\n",
      "ma 18 november 6.8\n",
      "di 19 november 5.45\n"
     ]
    }
   ],
   "source": [
    "from datetime import datetime\n",
    "import locale\n",
    "import statistics\n",
    "\n",
    "locale.setlocale(locale.LC_ALL, 'nl_NL')\n",
    "\n",
    "forecast = {}\n",
    "for day_forecast in data['list']:\n",
    "    dt = datetime.fromtimestamp(day_forecast['dt'])\n",
    "    temp = day_forecast['temp']['day']\n",
    "    print(dt.strftime('%a %d %B'), temp)\n",
    "    forecast[dt] = temp"
   ]
  },
  {
   "cell_type": "code",
   "execution_count": 130,
   "id": "8b0028f7-a1f3-42a1-8c81-9d9331f6d2f9",
   "metadata": {},
   "outputs": [
    {
     "name": "stdout",
     "output_type": "stream",
     "text": [
      "9.785\n",
      "9.785 2.8808609824148057\n"
     ]
    }
   ],
   "source": [
    "dagen = [day_forecast['temp']['day'] for day_forecast in data['list']]\n",
    "\n",
    "gemiddelde = sum(dagen) / len(dagen)\n",
    "print(gemiddelde)\n",
    "\n",
    "import statistics\n",
    "gemiddelde = statistics.mean(dagen)\n",
    "stdev = statistics.stdev(dagen)\n",
    "print(gemiddelde, stdev)"
   ]
  },
  {
   "cell_type": "code",
   "execution_count": 142,
   "id": "977e83b9-106b-4d3b-a714-e6f4bfa2c6d6",
   "metadata": {},
   "outputs": [
    {
     "data": {
      "text/plain": [
       "(array([0.06698821, 0.13397642, 0.06698821, 0.06698821, 0.20096463]),\n",
       " array([ 4.58 ,  6.446,  8.312, 10.178, 12.044, 13.91 ]),\n",
       " <BarContainer object of 5 artists>)"
      ]
     },
     "execution_count": 142,
     "metadata": {},
     "output_type": "execute_result"
    },
    {
     "data": {
      "image/png": "[encoded data removed]",
      "text/plain": [
       "<Figure size 640x480 with 1 Axes>"
      ]
     },
     "metadata": {},
     "output_type": "display_data"
    }
   ],
   "source": [
    "plt.hist(dagen, bins=5, density=True)"
   ]
  },
  {
   "cell_type": "code",
   "execution_count": 141,
   "id": "c345cfe5-29c0-4cdb-b306-5b9fe372469c",
   "metadata": {},
   "outputs": [
    {
     "ename": "AttributeError",
     "evalue": "module 'matplotlib.pyplot' has no attribute 'kde'",
     "output_type": "error",
     "traceback": [
      "\u001b[0;31m---------------------------------------------------------------------------\u001b[0m",
      "\u001b[0;31mAttributeError\u001b[0m                            Traceback (most recent call last)",
      "Cell \u001b[0;32mIn[141], line 1\u001b[0m\n\u001b[0;32m----> 1\u001b[0m \u001b[43mplt\u001b[49m\u001b[38;5;241;43m.\u001b[39;49m\u001b[43mkde\u001b[49m(dagen)\n",
      "\u001b[0;31mAttributeError\u001b[0m: module 'matplotlib.pyplot' has no attribute 'kde'"
     ]
    }
   ],
   "source": [
    "plt.kde(dagen)"
   ]
  },
  {
   "cell_type": "code",
   "execution_count": 136,
   "id": "7abad965-de60-4331-a58f-5e506e8dc179",
   "metadata": {},
   "outputs": [
    {
     "data": {
      "text/plain": [
       "10.205"
      ]
     },
     "execution_count": 136,
     "metadata": {},
     "output_type": "execute_result"
    }
   ],
   "source": [
    "median = statistics.median(dagen)\n",
    "\n",
    "median"
   ]
  },
  {
   "cell_type": "code",
   "execution_count": 135,
   "id": "7869aedc-cd6d-455d-8e1c-00262b89bba0",
   "metadata": {},
   "outputs": [
    {
     "data": {
      "text/plain": [
       "[7.44, 10.205, 12.2325]"
      ]
     },
     "execution_count": 135,
     "metadata": {},
     "output_type": "execute_result"
    }
   ],
   "source": [
    "statistics.quantiles(dagen, n=4)"
   ]
  },
  {
   "cell_type": "code",
   "execution_count": 133,
   "id": "d33f0df7-47b6-4967-8564-c8fc75ee9daf",
   "metadata": {},
   "outputs": [
    {
     "data": {
      "text/plain": [
       "{'whiskers': [<matplotlib.lines.Line2D at 0x308148e10>,\n",
       "  <matplotlib.lines.Line2D at 0x3081497d0>],\n",
       " 'caps': [<matplotlib.lines.Line2D at 0x30814a0d0>,\n",
       "  <matplotlib.lines.Line2D at 0x30814a990>],\n",
       " 'boxes': [<matplotlib.lines.Line2D at 0x308148650>],\n",
       " 'medians': [<matplotlib.lines.Line2D at 0x30814b250>],\n",
       " 'fliers': [<matplotlib.lines.Line2D at 0x30814ba90>],\n",
       " 'means': []}"
      ]
     },
     "execution_count": 133,
     "metadata": {},
     "output_type": "execute_result"
    },
    {
     "data": {
      "image/png": "[encoded data removed]",
      "text/plain": [
       "<Figure size 640x480 with 1 Axes>"
      ]
     },
     "metadata": {},
     "output_type": "display_data"
    }
   ],
   "source": [
    "plt.boxplot(dagen)"
   ]
  },
  {
   "cell_type": "code",
   "execution_count": 137,
   "id": "77aeaeb7-3cf0-4032-86af-7fcabc12c64a",
   "metadata": {},
   "outputs": [
    {
     "data": {
      "text/plain": [
       "{'bodies': [<matplotlib.collections.PolyCollection at 0x30804af10>],\n",
       " 'cmaxes': <matplotlib.collections.LineCollection at 0x307f0a490>,\n",
       " 'cmins': <matplotlib.collections.LineCollection at 0x3081d7910>,\n",
       " 'cbars': <matplotlib.collections.LineCollection at 0x3081dcb90>}"
      ]
     },
     "execution_count": 137,
     "metadata": {},
     "output_type": "execute_result"
    },
    {
     "data": {
      "image/png": "[encoded data removed]",
      "text/plain": [
       "<Figure size 640x480 with 1 Axes>"
      ]
     },
     "metadata": {},
     "output_type": "display_data"
    }
   ],
   "source": [
    "plt.violinplot(dagen)"
   ]
  },
  {
   "cell_type": "code",
   "execution_count": 128,
   "id": "b03ac029-1533-4243-8e6f-76c2d63ef4dc",
   "metadata": {},
   "outputs": [
    {
     "data": {
      "text/plain": [
       "[4.58,\n",
       " 5.45,\n",
       " 6.8,\n",
       " 7.44,\n",
       " 7.44,\n",
       " 7.88,\n",
       " 9.41,\n",
       " 9.43,\n",
       " 10.98,\n",
       " 11.37,\n",
       " 12.08,\n",
       " 12.18,\n",
       " 12.25,\n",
       " 12.63,\n",
       " 12.73,\n",
       " 13.91]"
      ]
     },
     "execution_count": 128,
     "metadata": {},
     "output_type": "execute_result"
    }
   ],
   "source": [
    "sorted(dagen)"
   ]
  },
  {
   "cell_type": "code",
   "execution_count": 117,
   "id": "9b3e1e5a-26ae-428c-8fd7-3d115d87bada",
   "metadata": {},
   "outputs": [
    {
     "data": {
      "text/plain": [
       "{datetime.datetime(2024, 11, 4, 12, 0): 12.25,\n",
       " datetime.datetime(2024, 11, 5, 12, 0): 11.37,\n",
       " datetime.datetime(2024, 11, 6, 12, 0): 12.73,\n",
       " datetime.datetime(2024, 11, 7, 12, 0): 12.08,\n",
       " datetime.datetime(2024, 11, 8, 12, 0): 12.18,\n",
       " datetime.datetime(2024, 11, 9, 12, 0): 13.91,\n",
       " datetime.datetime(2024, 11, 10, 12, 0): 12.63,\n",
       " datetime.datetime(2024, 11, 11, 12, 0): 10.98,\n",
       " datetime.datetime(2024, 11, 12, 12, 0): 9.43,\n",
       " datetime.datetime(2024, 11, 13, 12, 0): 9.41,\n",
       " datetime.datetime(2024, 11, 14, 12, 0): 7.44,\n",
       " datetime.datetime(2024, 11, 15, 12, 0): 4.58,\n",
       " datetime.datetime(2024, 11, 16, 12, 0): 7.44,\n",
       " datetime.datetime(2024, 11, 17, 12, 0): 7.88,\n",
       " datetime.datetime(2024, 11, 18, 12, 0): 6.8,\n",
       " datetime.datetime(2024, 11, 19, 12, 0): 5.45}"
      ]
     },
     "execution_count": 117,
     "metadata": {},
     "output_type": "execute_result"
    }
   ],
   "source": [
    "forecast"
   ]
  },
  {
   "cell_type": "code",
   "execution_count": 113,
   "id": "9507bee1-260a-4256-a65e-8c3afc6dbfc5",
   "metadata": {},
   "outputs": [
    {
     "name": "stdout",
     "output_type": "stream",
     "text": [
      "Gemiddeld: 9.785\n",
      "Gemiddeld: 9.785\n"
     ]
    }
   ],
   "source": [
    "gemiddelde1 = statistics.mean(forecast.values())\n",
    "gemiddelde2 = statistics.fmean(forecast.values())\n",
    "\n",
    "print(f'Gemiddeld: {gemiddelde1}')\n",
    "print(f'Gemiddeld: {gemiddelde2}')"
   ]
  },
  {
   "cell_type": "code",
   "execution_count": 173,
   "id": "3b8044f5-3cd4-4783-b254-20139f1e02ca",
   "metadata": {},
   "outputs": [
    {
     "data": {
      "image/png": "[encoded data removed]",
      "text/plain": [
       "<Figure size 640x480 with 1 Axes>"
      ]
     },
     "metadata": {},
     "output_type": "display_data"
    }
   ],
   "source": [
    "\n",
    "minimum = [day_forecast['temp']['min'] for day_forecast in data['list']]\n",
    "dagen = [day_forecast['temp']['day'] for day_forecast in data['list']]\n",
    "maximum = [day_forecast['temp']['max'] for day_forecast in data['list']]\n",
    "\n",
    "import matplotlib.pyplot as plt\n",
    "\n",
    "plt.fill_between(range(len(dagen)), minimum, maximum, color='lightblue', alpha=0.6)\n",
    "plt.plot(minimum, label='minimum', color='darkblue', alpha=0.6)\n",
    "plt.plot(maximum, label='maximum', color='darkblue', alpha=0.6)\n",
    "plt.plot(dagen, label='dag', color='red', linewidth=3)\n",
    "\n",
    "plt.grid()\n",
    "plt.legend(loc='upper right')\n",
    "plt.show()"
   ]
  },
  {
   "cell_type": "code",
   "execution_count": 151,
   "id": "0b479dd4-f192-41bf-a60b-82b38f658fd2",
   "metadata": {},
   "outputs": [
    {
     "data": {
      "image/png": "[encoded data removed]",
      "text/plain": [
       "<Figure size 640x480 with 1 Axes>"
      ]
     },
     "metadata": {},
     "output_type": "display_data"
    }
   ],
   "source": [
    "import pandas as pd\n",
    "\n",
    "df = pd.DataFrame({'dt': forecast.keys(), 'temp':forecast.values()})\n",
    "df.set_index('dt', inplace=True)\n",
    "\n",
    "df.plot()\n",
    "plt.grid()\n",
    "plt.show()"
   ]
  },
  {
   "cell_type": "code",
   "execution_count": 119,
   "id": "0dec8bd0-0f3a-4902-a8c6-a108886a8dc6",
   "metadata": {},
   "outputs": [
    {
     "data": {
      "text/html": [
       "<div>\n",
       "<style scoped>\n",
       "    .dataframe tbody tr th:only-of-type {\n",
       "        vertical-align: middle;\n",
       "    }\n",
       "\n",
       "    .dataframe tbody tr th {\n",
       "        vertical-align: top;\n",
       "    }\n",
       "\n",
       "    .dataframe thead th {\n",
       "        text-align: right;\n",
       "    }\n",
       "</style>\n",
       "<table border=\"1\" class=\"dataframe\">\n",
       "  <thead>\n",
       "    <tr style=\"text-align: right;\">\n",
       "      <th></th>\n",
       "      <th>dt</th>\n",
       "      <th>temp</th>\n",
       "    </tr>\n",
       "  </thead>\n",
       "  <tbody>\n",
       "    <tr>\n",
       "      <th>0</th>\n",
       "      <td>2024-11-04 12:00:00</td>\n",
       "      <td>12.25</td>\n",
       "    </tr>\n",
       "    <tr>\n",
       "      <th>1</th>\n",
       "      <td>2024-11-05 12:00:00</td>\n",
       "      <td>11.37</td>\n",
       "    </tr>\n",
       "    <tr>\n",
       "      <th>2</th>\n",
       "      <td>2024-11-06 12:00:00</td>\n",
       "      <td>12.73</td>\n",
       "    </tr>\n",
       "    <tr>\n",
       "      <th>3</th>\n",
       "      <td>2024-11-07 12:00:00</td>\n",
       "      <td>12.08</td>\n",
       "    </tr>\n",
       "    <tr>\n",
       "      <th>4</th>\n",
       "      <td>2024-11-08 12:00:00</td>\n",
       "      <td>12.18</td>\n",
       "    </tr>\n",
       "    <tr>\n",
       "      <th>5</th>\n",
       "      <td>2024-11-09 12:00:00</td>\n",
       "      <td>13.91</td>\n",
       "    </tr>\n",
       "    <tr>\n",
       "      <th>6</th>\n",
       "      <td>2024-11-10 12:00:00</td>\n",
       "      <td>12.63</td>\n",
       "    </tr>\n",
       "    <tr>\n",
       "      <th>7</th>\n",
       "      <td>2024-11-11 12:00:00</td>\n",
       "      <td>10.98</td>\n",
       "    </tr>\n",
       "    <tr>\n",
       "      <th>8</th>\n",
       "      <td>2024-11-12 12:00:00</td>\n",
       "      <td>9.43</td>\n",
       "    </tr>\n",
       "    <tr>\n",
       "      <th>9</th>\n",
       "      <td>2024-11-13 12:00:00</td>\n",
       "      <td>9.41</td>\n",
       "    </tr>\n",
       "    <tr>\n",
       "      <th>10</th>\n",
       "      <td>2024-11-14 12:00:00</td>\n",
       "      <td>7.44</td>\n",
       "    </tr>\n",
       "    <tr>\n",
       "      <th>11</th>\n",
       "      <td>2024-11-15 12:00:00</td>\n",
       "      <td>4.58</td>\n",
       "    </tr>\n",
       "    <tr>\n",
       "      <th>12</th>\n",
       "      <td>2024-11-16 12:00:00</td>\n",
       "      <td>7.44</td>\n",
       "    </tr>\n",
       "    <tr>\n",
       "      <th>13</th>\n",
       "      <td>2024-11-17 12:00:00</td>\n",
       "      <td>7.88</td>\n",
       "    </tr>\n",
       "    <tr>\n",
       "      <th>14</th>\n",
       "      <td>2024-11-18 12:00:00</td>\n",
       "      <td>6.80</td>\n",
       "    </tr>\n",
       "    <tr>\n",
       "      <th>15</th>\n",
       "      <td>2024-11-19 12:00:00</td>\n",
       "      <td>5.45</td>\n",
       "    </tr>\n",
       "  </tbody>\n",
       "</table>\n",
       "</div>"
      ],
      "text/plain": [
       "                    dt   temp\n",
       "0  2024-11-04 12:00:00  12.25\n",
       "1  2024-11-05 12:00:00  11.37\n",
       "2  2024-11-06 12:00:00  12.73\n",
       "3  2024-11-07 12:00:00  12.08\n",
       "4  2024-11-08 12:00:00  12.18\n",
       "5  2024-11-09 12:00:00  13.91\n",
       "6  2024-11-10 12:00:00  12.63\n",
       "7  2024-11-11 12:00:00  10.98\n",
       "8  2024-11-12 12:00:00   9.43\n",
       "9  2024-11-13 12:00:00   9.41\n",
       "10 2024-11-14 12:00:00   7.44\n",
       "11 2024-11-15 12:00:00   4.58\n",
       "12 2024-11-16 12:00:00   7.44\n",
       "13 2024-11-17 12:00:00   7.88\n",
       "14 2024-11-18 12:00:00   6.80\n",
       "15 2024-11-19 12:00:00   5.45"
      ]
     },
     "execution_count": 119,
     "metadata": {},
     "output_type": "execute_result"
    }
   ],
   "source": [
    "df"
   ]
  },
  {
   "cell_type": "code",
   "execution_count": 165,
   "id": "d9e97fc5-1774-4ade-80fa-5943ae6210cf",
   "metadata": {},
   "outputs": [
    {
     "data": {
      "text/plain": [
       "3"
      ]
     },
     "execution_count": 165,
     "metadata": {},
     "output_type": "execute_result"
    }
   ],
   "source": [
    "import statistics\n",
    "\n",
    "statistics.mean([1,3,5])\n",
    "\n",
    "\n",
    "import statistics as sts\n",
    "\n",
    "sts.mean([1,3,5])\n",
    "\n",
    "\n",
    "from statistics import mean\n",
    "\n",
    "mean([1,3,5])"
   ]
  },
  {
   "cell_type": "code",
   "execution_count": 162,
   "id": "5e9d4268-e33a-4f0d-a246-87e782523a70",
   "metadata": {},
   "outputs": [
    {
     "data": {
      "text/plain": [
       "['Counter',\n",
       " 'Decimal',\n",
       " 'Fraction',\n",
       " 'LinearRegression',\n",
       " 'NormalDist',\n",
       " 'StatisticsError',\n",
       " '_SQRT2',\n",
       " '__all__',\n",
       " '__annotations__',\n",
       " '__builtins__',\n",
       " '__cached__',\n",
       " '__doc__',\n",
       " '__file__',\n",
       " '__loader__',\n",
       " '__name__',\n",
       " '__package__',\n",
       " '__spec__',\n",
       " '_coerce',\n",
       " '_convert',\n",
       " '_decimal_sqrt_of_frac',\n",
       " '_exact_ratio',\n",
       " '_fail_neg',\n",
       " '_float_sqrt_of_frac',\n",
       " '_integer_sqrt_of_frac_rto',\n",
       " '_isfinite',\n",
       " '_mean_stdev',\n",
       " '_normal_dist_inv_cdf',\n",
       " '_sqrt_bit_width',\n",
       " '_ss',\n",
       " '_sum',\n",
       " 'bisect_left',\n",
       " 'bisect_right',\n",
       " 'correlation',\n",
       " 'covariance',\n",
       " 'defaultdict',\n",
       " 'erf',\n",
       " 'exp',\n",
       " 'fabs',\n",
       " 'fmean',\n",
       " 'fsum',\n",
       " 'geometric_mean',\n",
       " 'groupby',\n",
       " 'harmonic_mean',\n",
       " 'hypot',\n",
       " 'linear_regression',\n",
       " 'log',\n",
       " 'math',\n",
       " 'mean',\n",
       " 'median',\n",
       " 'median_grouped',\n",
       " 'median_high',\n",
       " 'median_low',\n",
       " 'mode',\n",
       " 'mul',\n",
       " 'multimode',\n",
       " 'namedtuple',\n",
       " 'numbers',\n",
       " 'pstdev',\n",
       " 'pvariance',\n",
       " 'quantiles',\n",
       " 'random',\n",
       " 'reduce',\n",
       " 'repeat',\n",
       " 'sqrt',\n",
       " 'stdev',\n",
       " 'sys',\n",
       " 'tau',\n",
       " 'variance']"
      ]
     },
     "execution_count": 162,
     "metadata": {},
     "output_type": "execute_result"
    }
   ],
   "source": [
    "dir(statistics)"
   ]
  },
  {
   "cell_type": "code",
   "execution_count": null,
   "id": "6ccc3761-9b1f-4990-b1e0-9911da8d97c9",
   "metadata": {},
   "outputs": [],
   "source": []
  }
 ],
 "metadata": {
  "kernelspec": {
   "display_name": "Python 3 (ipykernel)",
   "language": "python",
   "name": "python3"
  },
  "language_info": {
   "codemirror_mode": {
    "name": "ipython",
    "version": 3
   },
   "file_extension": ".py",
   "mimetype": "text/x-python",
   "name": "python",
   "nbconvert_exporter": "python",
   "pygments_lexer": "ipython3",
   "version": "3.11.9"
  }
 },
 "nbformat": 4,
 "nbformat_minor": 5
}
